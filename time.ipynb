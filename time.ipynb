{
 "cells": [
  {
   "cell_type": "code",
   "execution_count": 13,
   "id": "1a91c704",
   "metadata": {},
   "outputs": [],
   "source": [
    "import pandas as pd\n",
    "import numpy as np\n",
    "import matplotlib.pyplot as plt"
   ]
  },
  {
   "cell_type": "markdown",
   "id": "67dc556f",
   "metadata": {},
   "source": [
    "# Average Ethereum inter-block time\n",
    "\n",
    "In this notebook we compute the average inter-block time for the Ethereum blocks in data set $\\mathcal{D1}$.\n",
    "\n",
    "We recall that, for our experiments, $\\mathcal{D1}$ denotes the set of all blocks between height 0 (mined on July 30th, 2015) and height 14999999 (mined on June 21st, 2022).\n",
    "\n",
    "To this aim, we use historical data from Etherscan (available here: https://etherscan.io/chart/blocktime)."
   ]
  },
  {
   "cell_type": "code",
   "execution_count": 9,
   "id": "ea01938f",
   "metadata": {},
   "outputs": [
    {
     "data": {
      "text/html": [
       "<div>\n",
       "<style scoped>\n",
       "    .dataframe tbody tr th:only-of-type {\n",
       "        vertical-align: middle;\n",
       "    }\n",
       "\n",
       "    .dataframe tbody tr th {\n",
       "        vertical-align: top;\n",
       "    }\n",
       "\n",
       "    .dataframe thead th {\n",
       "        text-align: right;\n",
       "    }\n",
       "</style>\n",
       "<table border=\"1\" class=\"dataframe\">\n",
       "  <thead>\n",
       "    <tr style=\"text-align: right;\">\n",
       "      <th></th>\n",
       "      <th>Date(UTC)</th>\n",
       "      <th>UnixTimeStamp</th>\n",
       "      <th>Value</th>\n",
       "    </tr>\n",
       "  </thead>\n",
       "  <tbody>\n",
       "    <tr>\n",
       "      <th>0</th>\n",
       "      <td>2015-07-30</td>\n",
       "      <td>1438214400</td>\n",
       "      <td>4.46</td>\n",
       "    </tr>\n",
       "    <tr>\n",
       "      <th>1</th>\n",
       "      <td>2015-07-31</td>\n",
       "      <td>1438300800</td>\n",
       "      <td>12.58</td>\n",
       "    </tr>\n",
       "    <tr>\n",
       "      <th>2</th>\n",
       "      <td>2015-08-01</td>\n",
       "      <td>1438387200</td>\n",
       "      <td>16.34</td>\n",
       "    </tr>\n",
       "    <tr>\n",
       "      <th>3</th>\n",
       "      <td>2015-08-02</td>\n",
       "      <td>1438473600</td>\n",
       "      <td>16.12</td>\n",
       "    </tr>\n",
       "    <tr>\n",
       "      <th>4</th>\n",
       "      <td>2015-08-03</td>\n",
       "      <td>1438560000</td>\n",
       "      <td>16.37</td>\n",
       "    </tr>\n",
       "    <tr>\n",
       "      <th>...</th>\n",
       "      <td>...</td>\n",
       "      <td>...</td>\n",
       "      <td>...</td>\n",
       "    </tr>\n",
       "    <tr>\n",
       "      <th>2858</th>\n",
       "      <td>2023-05-27</td>\n",
       "      <td>1685145600</td>\n",
       "      <td>12.09</td>\n",
       "    </tr>\n",
       "    <tr>\n",
       "      <th>2859</th>\n",
       "      <td>2023-05-28</td>\n",
       "      <td>1685232000</td>\n",
       "      <td>12.08</td>\n",
       "    </tr>\n",
       "    <tr>\n",
       "      <th>2860</th>\n",
       "      <td>2023-05-29</td>\n",
       "      <td>1685318400</td>\n",
       "      <td>12.12</td>\n",
       "    </tr>\n",
       "    <tr>\n",
       "      <th>2861</th>\n",
       "      <td>2023-05-30</td>\n",
       "      <td>1685404800</td>\n",
       "      <td>12.13</td>\n",
       "    </tr>\n",
       "    <tr>\n",
       "      <th>2862</th>\n",
       "      <td>2023-05-31</td>\n",
       "      <td>1685491200</td>\n",
       "      <td>12.11</td>\n",
       "    </tr>\n",
       "  </tbody>\n",
       "</table>\n",
       "<p>2863 rows × 3 columns</p>\n",
       "</div>"
      ],
      "text/plain": [
       "      Date(UTC)  UnixTimeStamp  Value\n",
       "0    2015-07-30     1438214400   4.46\n",
       "1    2015-07-31     1438300800  12.58\n",
       "2    2015-08-01     1438387200  16.34\n",
       "3    2015-08-02     1438473600  16.12\n",
       "4    2015-08-03     1438560000  16.37\n",
       "...         ...            ...    ...\n",
       "2858 2023-05-27     1685145600  12.09\n",
       "2859 2023-05-28     1685232000  12.08\n",
       "2860 2023-05-29     1685318400  12.12\n",
       "2861 2023-05-30     1685404800  12.13\n",
       "2862 2023-05-31     1685491200  12.11\n",
       "\n",
       "[2863 rows x 3 columns]"
      ]
     },
     "execution_count": 9,
     "metadata": {},
     "output_type": "execute_result"
    }
   ],
   "source": [
    "# The following instruction automatically downloads the latest version of the data set from the Etherscan website.\n",
    "df = pd.read_csv('https://etherscan.io/chart/blocktime?output=csv', storage_options={'User-Agent': 'Mozilla/5.0'})\n",
    "df['Date(UTC)'] = df['Date(UTC)'].astype(dtype='datetime64')\n",
    "df"
   ]
  },
  {
   "cell_type": "markdown",
   "id": "8fa3e61e",
   "metadata": {},
   "source": [
    "As the data set is updated daily, we select all rows regarding the analyzed period."
   ]
  },
  {
   "cell_type": "code",
   "execution_count": 11,
   "id": "599bf57b",
   "metadata": {},
   "outputs": [
    {
     "data": {
      "text/html": [
       "<div>\n",
       "<style scoped>\n",
       "    .dataframe tbody tr th:only-of-type {\n",
       "        vertical-align: middle;\n",
       "    }\n",
       "\n",
       "    .dataframe tbody tr th {\n",
       "        vertical-align: top;\n",
       "    }\n",
       "\n",
       "    .dataframe thead th {\n",
       "        text-align: right;\n",
       "    }\n",
       "</style>\n",
       "<table border=\"1\" class=\"dataframe\">\n",
       "  <thead>\n",
       "    <tr style=\"text-align: right;\">\n",
       "      <th></th>\n",
       "      <th>Date(UTC)</th>\n",
       "      <th>UnixTimeStamp</th>\n",
       "      <th>Value</th>\n",
       "    </tr>\n",
       "  </thead>\n",
       "  <tbody>\n",
       "    <tr>\n",
       "      <th>0</th>\n",
       "      <td>2015-07-30</td>\n",
       "      <td>1438214400</td>\n",
       "      <td>4.46</td>\n",
       "    </tr>\n",
       "    <tr>\n",
       "      <th>1</th>\n",
       "      <td>2015-07-31</td>\n",
       "      <td>1438300800</td>\n",
       "      <td>12.58</td>\n",
       "    </tr>\n",
       "    <tr>\n",
       "      <th>2</th>\n",
       "      <td>2015-08-01</td>\n",
       "      <td>1438387200</td>\n",
       "      <td>16.34</td>\n",
       "    </tr>\n",
       "    <tr>\n",
       "      <th>3</th>\n",
       "      <td>2015-08-02</td>\n",
       "      <td>1438473600</td>\n",
       "      <td>16.12</td>\n",
       "    </tr>\n",
       "    <tr>\n",
       "      <th>4</th>\n",
       "      <td>2015-08-03</td>\n",
       "      <td>1438560000</td>\n",
       "      <td>16.37</td>\n",
       "    </tr>\n",
       "    <tr>\n",
       "      <th>...</th>\n",
       "      <td>...</td>\n",
       "      <td>...</td>\n",
       "      <td>...</td>\n",
       "    </tr>\n",
       "    <tr>\n",
       "      <th>2514</th>\n",
       "      <td>2022-06-17</td>\n",
       "      <td>1655424000</td>\n",
       "      <td>14.48</td>\n",
       "    </tr>\n",
       "    <tr>\n",
       "      <th>2515</th>\n",
       "      <td>2022-06-18</td>\n",
       "      <td>1655510400</td>\n",
       "      <td>14.58</td>\n",
       "    </tr>\n",
       "    <tr>\n",
       "      <th>2516</th>\n",
       "      <td>2022-06-19</td>\n",
       "      <td>1655596800</td>\n",
       "      <td>14.78</td>\n",
       "    </tr>\n",
       "    <tr>\n",
       "      <th>2517</th>\n",
       "      <td>2022-06-20</td>\n",
       "      <td>1655683200</td>\n",
       "      <td>14.47</td>\n",
       "    </tr>\n",
       "    <tr>\n",
       "      <th>2518</th>\n",
       "      <td>2022-06-21</td>\n",
       "      <td>1655769600</td>\n",
       "      <td>15.55</td>\n",
       "    </tr>\n",
       "  </tbody>\n",
       "</table>\n",
       "<p>2519 rows × 3 columns</p>\n",
       "</div>"
      ],
      "text/plain": [
       "      Date(UTC)  UnixTimeStamp  Value\n",
       "0    2015-07-30     1438214400   4.46\n",
       "1    2015-07-31     1438300800  12.58\n",
       "2    2015-08-01     1438387200  16.34\n",
       "3    2015-08-02     1438473600  16.12\n",
       "4    2015-08-03     1438560000  16.37\n",
       "...         ...            ...    ...\n",
       "2514 2022-06-17     1655424000  14.48\n",
       "2515 2022-06-18     1655510400  14.58\n",
       "2516 2022-06-19     1655596800  14.78\n",
       "2517 2022-06-20     1655683200  14.47\n",
       "2518 2022-06-21     1655769600  15.55\n",
       "\n",
       "[2519 rows x 3 columns]"
      ]
     },
     "execution_count": 11,
     "metadata": {},
     "output_type": "execute_result"
    }
   ],
   "source": [
    "d1 = df[df['Date(UTC)'] <= '2022-06-21']\n",
    "d1"
   ]
  },
  {
   "cell_type": "markdown",
   "id": "93fc96b8",
   "metadata": {},
   "source": [
    "Then we compute the average inter-block time (in seconds)."
   ]
  },
  {
   "cell_type": "code",
   "execution_count": 15,
   "id": "95b6459b",
   "metadata": {},
   "outputs": [
    {
     "name": "stdout",
     "output_type": "stream",
     "text": [
      "Avg. inter-block time: 14.549515680825722 s\n"
     ]
    }
   ],
   "source": [
    "t = np.mean(d1.Value)\n",
    "print(f'Avg. inter-block time: {t} s')"
   ]
  },
  {
   "cell_type": "markdown",
   "id": "f3f4e7d0",
   "metadata": {},
   "source": [
    "As we would like to cover a time window of 30 minutes, we can use this value to estimate the number of entries $e$ required in our skip indices. This can be computed as follows:\n",
    "\n",
    "$$e = \\Big\\lceil \\log_2 \\Big(\\frac{30 \\times 60}{t}\\Big) \\Big\\rceil$$"
   ]
  },
  {
   "cell_type": "code",
   "execution_count": 16,
   "id": "9df0b122",
   "metadata": {},
   "outputs": [
    {
     "name": "stdout",
     "output_type": "stream",
     "text": [
      "N. of filters: 7.0\n"
     ]
    }
   ],
   "source": [
    "e = np.ceil(np.log2(30*60/t))\n",
    "print(f'N. of filters: {e}')"
   ]
  }
 ],
 "metadata": {
  "kernelspec": {
   "display_name": "Python 3 (ipykernel)",
   "language": "python",
   "name": "python3"
  },
  "language_info": {
   "codemirror_mode": {
    "name": "ipython",
    "version": 3
   },
   "file_extension": ".py",
   "mimetype": "text/x-python",
   "name": "python",
   "nbconvert_exporter": "python",
   "pygments_lexer": "ipython3",
   "version": "3.8.9"
  }
 },
 "nbformat": 4,
 "nbformat_minor": 5
}
