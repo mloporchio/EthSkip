{
 "cells": [
  {
   "cell_type": "code",
   "execution_count": 2,
   "id": "04406ab4",
   "metadata": {},
   "outputs": [],
   "source": [
    "import pandas as pd\n",
    "import numpy as np\n",
    "import matplotlib.pyplot as plt"
   ]
  },
  {
   "cell_type": "markdown",
   "id": "6bf7eefd",
   "metadata": {},
   "source": [
    "We first define some utility functions."
   ]
  },
  {
   "cell_type": "code",
   "execution_count": null,
   "id": "03235935",
   "metadata": {},
   "outputs": [],
   "source": [
    "# Computes the FPR for a Bloom filter (assumes that filterSize is expressed in bytes).\n",
    "def fpr(numElements, filterSize, numHash):\n",
    "    return np.power(1 - np.exp(-numHash * numElements / (filterSize*8)), numHash)\n",
    "\n",
    "# Generates a dataframe with statistics on the filters of a BF skip index.\n",
    "def skipProperties(filterSize, numHash, numEntries, avgKeys):\n",
    "    data = []\n",
    "    for j in range(0, numEntries):\n",
    "        numBlocks = 1 << j\n",
    "        numKeys = avgKeys * numBlocks\n",
    "        estFpr = fpr(numKeys, filterSize, numHash)\n",
    "        data.append([numBlocks, numKeys, estFpr, filterSize])\n",
    "    return pd.DataFrame(data, columns = ['numBlocks', 'estKeys', 'estFpr', 'filterSize'])\n",
    "\n",
    "# Returns the Hamming weight of an integer.\n",
    "def hamming(n):\n",
    "    c = 0\n",
    "    while n:\n",
    "        c += 1\n",
    "        n &= n - 1\n",
    "    return c\n",
    "\n",
    "# Lower bound for the index-based method.\n",
    "def minNumVisited(d, numEntries):\n",
    "    return 1 + np.floor(d / (1 << numEntries)) + hamming(d % (1 << numEntries))\n",
    "\n",
    "fpRate = np.vectorize(fpr)\n",
    "linearUpperBound = np.vectorize(lambda d: d+1)\n",
    "skipLowerBound = np.vectorize(minNumVisited)"
   ]
  },
  {
   "cell_type": "markdown",
   "id": "71a6c15e",
   "metadata": {},
   "source": [
    "# Query analysis\n",
    "\n",
    "In this notebook we analyze the results of our query simulations using BF skip indexes.<br>\n",
    "We first import the result files, which describe query results for the `Birth` and `Transfer` events."
   ]
  },
  {
   "cell_type": "code",
   "execution_count": null,
   "id": "96fb491a",
   "metadata": {},
   "outputs": [],
   "source": [
    "q_birth = pd.read_csv('data/queries_birth_res.csv')\n",
    "q_birth = q_birth.sort_values(by=['distance'])\n",
    "q_birth['skipLowerBound'] = skipLowerBound(q_birth['distance'], 7)\n",
    "q_birth['skipDiff'] = q_birth['skipVisited']-q_birth['skipLowerBound']\n",
    "\n",
    "q_transfer = pd.read_csv('data/queries_transfer_res.csv')\n",
    "q_transfer = q_transfer.sort_values(by=['distance'])\n",
    "q_transfer['skipLowerBound'] = skipLowerBound(q_transfer['distance'], 7)\n",
    "q_transfer['skipDiff'] = q_transfer['skipVisited'] - q_transfer['skipLowerBound']\n",
    "\n",
    "q_birth_m = pd.read_csv('data/queries_birth_res_m.csv')\n",
    "q_birth_m = q_birth_m.sort_values(by=['distance'])\n",
    "q_birth_m['skipLowerBound'] = skipLowerBound(q_birth_m['distance'], 7)\n",
    "q_birth_m['skipDiff'] = q_birth_m['skipVisited']-q_birth_m['skipLowerBound']\n",
    "\n",
    "q_transfer_m = pd.read_csv('data/queries_transfer_res_m.csv')\n",
    "q_transfer_m = q_transfer_m.sort_values(by=['distance'])\n",
    "q_transfer_m['skipLowerBound'] = skipLowerBound(q_transfer_m['distance'], 7)\n",
    "q_transfer_m['skipDiff'] = q_transfer_m['skipVisited'] - q_transfer_m['skipLowerBound']"
   ]
  },
  {
   "cell_type": "markdown",
   "id": "0457db28",
   "metadata": {},
   "source": [
    "Then we analyze the results by considering the number of *suboptimal* queries for each event. A suboptimal query required visiting a number of blocks strictly larger than the theoretical lower bound. We also consider suboptimal queries with indices including modified Bloom filters, which also record the concatenation between contract address and event signature digest."
   ]
  },
  {
   "cell_type": "code",
   "execution_count": null,
   "id": "a8f0a68e",
   "metadata": {},
   "outputs": [],
   "source": [
    "numSub = lambda data: len(data[data.skipDiff > 0])\n",
    "t = pd.DataFrame({\n",
    "    'Event': ['Birth', 'Transfer', 'Birth (mod)', 'Transfer (mod)'],\n",
    "    'Queries': [len(q_birth), len(q_transfer), len(q_birth_m), len(q_transfer_m)],\n",
    "    'Suboptimal': [numSub(q_birth), numSub(q_transfer), numSub(q_birth_m), numSub(q_transfer_m)],\n",
    "})\n",
    "t['Percentage'] = t['Suboptimal']*100/t['Queries']\n",
    "t"
   ]
  },
  {
   "cell_type": "markdown",
   "id": "021ed89b",
   "metadata": {},
   "source": [
    "We define the following function to generate plots describing our results.\n",
    "The plots summarize the number of blocks visited by two different search methods as a function of the solution distance.\n",
    "\n",
    "1. **Naive sequential method.** In order to find a solution at distance $d$ from the current block, this method visits $d+1$ blocks by scanning all blocks in the search range.\n",
    "2. **Index-based method.** An implementation of the algorithm for finding the first event occurrence using BF skip indices (see Algorithm 2 in the paper). "
   ]
  },
  {
   "cell_type": "code",
   "execution_count": 1,
   "id": "ccfd5972",
   "metadata": {},
   "outputs": [],
   "source": [
    "def queryFigure(data, title, output_path, legend):\n",
    "    dist = np.arange(np.min(data.distance), np.max(data.distance)+1)\n",
    "    fig = plt.figure(figsize=(4, 4))\n",
    "    ax1 = fig.add_subplot()\n",
    "    ax1.set_title(title)\n",
    "    ax1.set_xlabel('Solution distance')\n",
    "    ax1.set_ylabel('N. of visited blocks')\n",
    "    ax1.set_yscale('log')\n",
    "    ax1.scatter(data.distance, data.skipVisited, marker='.', color='#dc267f', label='skip', rasterized=True)\n",
    "    ax1.scatter(data.distance, data.linearVisited, marker='.', color='#648fff', label='sequential', rasterized=True)\n",
    "    ax1.plot(dist, skipLowerBound(dist, 7), color='black', linestyle='-', alpha=0.5, label='lower bound')\n",
    "    ax1.grid(linestyle='--', linewidth=0.5)\n",
    "    if legend:\n",
    "        ax1.legend(loc='lower right')\n",
    "    plt.savefig(output_path, format='pdf', bbox_inches='tight')\n",
    "    plt.show()"
   ]
  },
  {
   "cell_type": "markdown",
   "id": "41975469",
   "metadata": {},
   "source": [
    "Then we generate the plots and save them to the `pictures` directory."
   ]
  },
  {
   "cell_type": "code",
   "execution_count": null,
   "id": "21fee289",
   "metadata": {},
   "outputs": [],
   "source": [
    "queryFigure(q_birth, 'Birth first occurrence', 'pictures/query_birth.pdf', True)\n",
    "queryFigure(q_transfer, 'Transfer first occurrence', 'pictures/query_transfer.pdf', False)\n",
    "queryFigure(q_birth_m, 'Birth first occurrence (modified)', 'pictures/query_birth_m.pdf', False)\n",
    "queryFigure(q_transfer_m, 'Transfer first occurrence (modified)', 'pictures/query_transfer_m.pdf', False)"
   ]
  }
 ],
 "metadata": {
  "kernelspec": {
   "display_name": "Python 3 (ipykernel)",
   "language": "python",
   "name": "python3"
  },
  "language_info": {
   "codemirror_mode": {
    "name": "ipython",
    "version": 3
   },
   "file_extension": ".py",
   "mimetype": "text/x-python",
   "name": "python",
   "nbconvert_exporter": "python",
   "pygments_lexer": "ipython3",
   "version": "3.8.9"
  }
 },
 "nbformat": 4,
 "nbformat_minor": 5
}
